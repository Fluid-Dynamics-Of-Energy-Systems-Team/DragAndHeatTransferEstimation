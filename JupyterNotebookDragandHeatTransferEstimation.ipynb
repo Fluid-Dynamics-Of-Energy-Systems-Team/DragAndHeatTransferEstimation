{
 "cells": [
  {
   "cell_type": "code",
   "execution_count": 1,
   "id": "0c74a51e",
   "metadata": {},
   "outputs": [],
   "source": [
    "import numpy as np\n",
    "from scipy.integrate import cumtrapz, trapz\n",
    "import matplotlib.pyplot as plt\n",
    "from matplotlib import rc, rcParams\n",
    "from matplotlib.ticker import (MultipleLocator, AutoMinorLocator)\n",
    "import scipy.io\n",
    "\n",
    "%matplotlib inline\n",
    "%config InlineBackend.figure_format = 'retina'\n",
    "rc('text', usetex=True)  # switch to False incase the notebook is slow!!!!\n",
    "rcParams.update({'font.size': 18})"
   ]
  },
  {
   "cell_type": "code",
   "execution_count": 12,
   "id": "655ace58",
   "metadata": {},
   "outputs": [],
   "source": [
    "def deriv(f,x):\n",
    "    dfdx = np.zeros_like(f)\n",
    "    deruni = (-3*f[0]+4*f[1]-1*f[2])/(2)\n",
    "    dergrid = -1/60*-x[3] + 0.15*-x[2] - 0.75*-x[1] \\\n",
    "              +1/60* x[3] - 0.15* x[2] + 0.75* x[1]\n",
    "    der = deruni * 1/dergrid     \n",
    "    dfdx[0]    = der\n",
    "    dfdx[-1]   = (f[-1] - f[-2]  )/(x[-1] - x[-2])    \n",
    "    dfdx[1:-1] = (f[2:] - f[0:-2])/(x[2:] - x[0:-2])\n",
    "    return dfdx\n",
    "\n",
    "def dTdy(T,y):\n",
    "\n",
    "    deruni = (-3*T[0]+4*T[1]-1*T[2])/(2)\n",
    "    dergrid = -1/60*-y[3] + 0.15*-y[2] - 0.75*-y[1] \\\n",
    "              +1/60* y[3] - 0.15* y[2] + 0.75* y[1]\n",
    "    der = deruni * 1/dergrid \n",
    "    return der"
   ]
  },
  {
   "cell_type": "markdown",
   "id": "5caf00c8",
   "metadata": {},
   "source": [
    "# Estimating mean profiles and fluxes in high-speed turbulent boundary layers using inner/outer-layer transformations\n",
    "\n",
    "### The following equations are solved iteratively in this notebook. Refer to the paper for more details\n",
    "\n",
    "#### Required inputs are $Re_\\theta$, $M_\\infty$, $T_w/T_r$ and (optionally) the dimensional wall or free-stream temperature for Sutherland's law.  It is important to note that all solver inputs are based on the quantities in the free-stream, and not at the boundary layer edge.\n",
    "\n",
    "#### 1.Mean shear (in non-dimensional form)\n",
    "\\begin{equation}\n",
    "    \\frac{d\\bar u^+}{dy^+} =  \\frac{\\mu_w}{\\bar \\mu} \\frac{1}{1 + \\underbrace{\\kappa y^* D(M_\\tau)}_{\\mu_t}}  +  \\frac{\\sqrt{\\rho_w/\\bar\\rho}}{Re_\\tau} \\, \\frac{\\Pi}{\\kappa} \\, \\pi\\, \\sin \\left(\\pi \\frac{y}{\\delta}\\right),\n",
    "\\end{equation}\n",
    "where \n",
    "\\begin{equation}\\label{Dc}\n",
    "D(M_{\\tau}) = \\left[1 - \\mathrm{exp}\\left({\\frac{-y^*}{A^+ + f(M_\\tau)}}\\right)\\right]^2,\n",
    "\\end{equation}\n",
    "\n",
    "$A^+ = 17$, $\\kappa=0.41$, $f(M_\\tau)=19.3M_\\tau$, and\n",
    " ${\\Pi} = 0.69\\,\\left[1 - \\exp(-0.243 \\sqrt{z} - {0.15} \\,z)\\right]$, with $z = Re_\\theta/425 - 1.$    \n",
    "\n",
    "#### 2.Temperature velocity relationship (Zhang et al. (2014), JFM)\n",
    "\\begin{equation}\n",
    "\\frac{\\bar T}{T_w} =1+\\frac{T_r-T_w}{T_w} \\left[(1-s\\,{Pr})\\left(\\frac{\\bar u^+}{u^+_\\infty}\\right)^2+s \\, {Pr}\\left(\\frac{\\bar u^+}{u_\\infty^+}\\right)\\right]+\\frac{T_\\infty-T_r}{T_w}\\left(\\frac{\\bar u^+}{u^+_\\infty}\\right)^2,\n",
    "\\end{equation}\n",
    "\n",
    "where $s\\,{Pr}=0.8$, $ T_r/T_\\infty = 1 + 0.5 r (\\gamma-1)M_\\infty^2$, $r=Pr^{1/3}$ and $Pr=0.72$.\n",
    "\n",
    "#### 3. Density Profile (using ideal gas equation of state)\n",
    "\\begin{equation}\n",
    "\\frac{\\bar\\rho}{\\rho_w} = \\frac{T_w}{\\bar T}\n",
    "\\end{equation}\n",
    "\n",
    "#### 4. Viscosity profile (using Sutherland's law)\n",
    "\\begin{equation}\n",
    "\\frac{\\bar\\mu}{\\mu_w}=\\left(\\frac{\\bar T}{T_w}\\right)^{3 / 2} \\frac{T_w+S}{\\bar T+S},\n",
    "\\end{equation}\n",
    "where S = 110.56 K\n",
    "\n",
    "#### 5. Computing $Re_\\tau$ and $M_\\tau$ using the inputs $Re_\\theta$ and $M_\\infty$\n",
    "\\begin{equation}\n",
    "Re_\\tau = {Re_\\theta}\\frac{ \\mu_\\infty/\\mu_w}{(\\rho_\\infty/\\rho_w) u_\\infty^+ (\\theta/\\delta)}\n",
    "\\end{equation}\n",
    "\n",
    "\\begin{equation}\n",
    "M_\\tau = M_\\infty \\sqrt{\\frac{c_f}{2}}\n",
    "\\end{equation}"
   ]
  },
  {
   "cell_type": "code",
   "execution_count": 13,
   "id": "15782135",
   "metadata": {},
   "outputs": [],
   "source": [
    "#Constants\n",
    "gamma     = 1.4\n",
    "Pr        = 0.72\n",
    "kappa     = 0.41\n",
    "Apl       = 17"
   ]
  },
  {
   "cell_type": "code",
   "execution_count": 14,
   "id": "40a23a5d",
   "metadata": {},
   "outputs": [],
   "source": [
    "def grid(H,n,fact):\n",
    "    tanhyp = 0.5\n",
    "    i = tanhyp*(np.arange(0,n))/(n-1) - 0.5 ;\n",
    "    y = 1./tanhyp*H * (1.0 + np.tanh(fact*i)/np.tanh(fact/2))/2.0;\n",
    "    \n",
    "    return y"
   ]
  },
  {
   "cell_type": "code",
   "execution_count": 15,
   "id": "683bdb25",
   "metadata": {},
   "outputs": [],
   "source": [
    "def temperature(upl, Minf, Tw_Tr):\n",
    "\n",
    "    r = Pr**(1/3)\n",
    "    Tr_Tinf = 1 + r*(gamma - 1)/2*Minf**2\n",
    "    Tinf_Tw = 1/(Tw_Tr*Tr_Tinf)        \n",
    "    al   = 0.8\n",
    "    u_uinf = upl/upl[-1]   \n",
    "    f_u  = (1 - al)*(u_uinf)**2 + al*(u_uinf)\n",
    "    T_Tw = 1 + (1/Tw_Tr - 1)*f_u + (Tinf_Tw - 1/Tw_Tr)*(u_uinf)**2\n",
    "    \n",
    "    return T_Tw"
   ]
  },
  {
   "cell_type": "code",
   "execution_count": 16,
   "id": "9cd03dd3",
   "metadata": {},
   "outputs": [],
   "source": [
    "def viscosity(T_Tw, viscLaw, Tinf_dim):\n",
    "\n",
    "    if viscLaw == \"Sutherland\":\n",
    "        Tinf_Tw = T_Tw[-1]/T_Tw[0]\n",
    "        S     = 110.56/Tinf_dim * Tinf_Tw\n",
    "        mu    = T_Tw**(1.5)*(1 + S)/(T_Tw + S)\n",
    "        mu_muw = mu/mu[0]\n",
    "\n",
    "    elif viscLaw == \"PowerLaw\":\n",
    "        mu_muw = T_Tw**0.75\n",
    "\n",
    "    else:\n",
    "        print('Viscosity law ', viscLaw, \" not available\")\n",
    "    \n",
    "    return mu_muw"
   ]
  },
  {
   "cell_type": "code",
   "execution_count": 17,
   "id": "9098424e",
   "metadata": {},
   "outputs": [],
   "source": [
    "def density(T_Tw):\n",
    "        \n",
    "    r_rw = 1/T_Tw\n",
    "    \n",
    "    return r_rw"
   ]
  },
  {
   "cell_type": "code",
   "execution_count": 18,
   "id": "88670465",
   "metadata": {},
   "outputs": [],
   "source": [
    "def meanVelocity(ReTheta, ReTau, MTau, y_ye, r_rw, mu_muw, upl):\n",
    "    \n",
    "    ReTauSt = ReTau*np.sqrt(r_rw)/mu_muw   # semi-local Reynolds number\n",
    "    ypl     = y_ye*ReTau                   # y+\n",
    "    yst     = y_ye*ReTauSt                 # semi-local wall distance y*    \n",
    "    \n",
    "    z1  = ReTheta/425-1\n",
    "    Pi   = 0.69*(1 - np.exp(-0.243*z1**0.5 - 0.150*z1))\n",
    "\n",
    "    D = (1-np.exp(-yst/(Apl + 19.3*MTau)))**2\n",
    "    \n",
    "    upl       =   cumtrapz(mu_muw**-1/(1 + kappa*yst*D), ypl, initial=0) \\\n",
    "                + cumtrapz(1/ReTau/np.sqrt(r_rw)*Pi/kappa*np.pi*np.sin(np.pi*y_ye), ypl, initial=0)   \n",
    "    \n",
    "    upl[y_ye>1] = upl[np.sum(y_ye<=1)]/0.99 #Since velocity at the edge is 0.99 times velocity in the free-stream\n",
    "    \n",
    "    return ypl, yst, upl"
   ]
  },
  {
   "cell_type": "code",
   "execution_count": 19,
   "id": "6fd12ce0",
   "metadata": {},
   "outputs": [],
   "source": [
    "def calcParameters(ReTheta, y_ye, r_rw, mu_muw, upl, Minf, T_Tw, Tw_Tr):\n",
    "    \n",
    "    Theta         = trapz(r_rw/r_rw[-1]*upl/upl[-1]*(1 - upl/upl[-1]), y_ye)\n",
    "    ReTheta_ReTau = r_rw[-1]*upl[-1]*Theta/mu_muw[-1]\n",
    "    ReTau         = ReTheta/ReTheta_ReTau\n",
    "    cf            = 2/(r_rw[-1]*upl[-1]**2)\n",
    "    ch            = 1/ReTau/Pr*dTdy(T_Tw,y_ye)/(r_rw[-1]*upl[-1]*(Tw_Tr**-1 -1))        \n",
    "    MTau          = Minf*(cf/2)**0.5    \n",
    "    \n",
    "    return ReTau, MTau, cf, ch"
   ]
  },
  {
   "cell_type": "code",
   "execution_count": 20,
   "id": "a24d2ea0",
   "metadata": {},
   "outputs": [],
   "source": [
    "def Solver(ReTheta = 1000, Minf = 1.0, Tw_Tr = 1.0,    \n",
    "                  viscLaw = \"Sutherland\", Tinf_dim = 300):\n",
    "    \n",
    "    # Generate grid\n",
    "    y_ye = grid(3, 360, 5) # (domain size, number of cells, stretching factor)\n",
    "    \n",
    "    # set initial values for ReTau, MTau and upl\n",
    "    ReTau = 100\n",
    "    MTau  = 0.0\n",
    "    upl   = np.ones_like(y_ye)    \n",
    "\n",
    "    niter = 0\n",
    "    err   = 1e10\n",
    "    \n",
    "    while(err > 1e-10 and niter < 1000):\n",
    "\n",
    "        ReTauOld = ReTau\n",
    "        \n",
    "        T_Tw                 = temperature(upl, Minf, Tw_Tr)\n",
    "        mu_muw               = viscosity(T_Tw, viscLaw, Tinf_dim)\n",
    "        r_rw                 = density (T_Tw) \n",
    "        ypl, yst, upl        = meanVelocity(ReTheta, ReTau, MTau, y_ye, r_rw, mu_muw, upl)        \n",
    "        ReTau, MTau, cf, ch  = calcParameters(ReTheta, y_ye, r_rw, mu_muw, upl, Minf, T_Tw, Tw_Tr)\n",
    "\n",
    "        err = abs(ReTauOld-ReTau)\n",
    "        niter += 1\n",
    "\n",
    "    return cf, ch, ReTau, MTau, ypl, yst, upl, T_Tw, niter"
   ]
  },
  {
   "cell_type": "markdown",
   "id": "6af09d71",
   "metadata": {},
   "source": [
    "## Plotting"
   ]
  },
  {
   "cell_type": "code",
   "execution_count": 21,
   "id": "1be58c2c",
   "metadata": {},
   "outputs": [
    {
     "name": "stdout",
     "output_type": "stream",
     "text": [
      "Convergence reached after 22 iterations.\n",
      "\n",
      "Skin friction coefficient cf = 7.01493e-04 \n",
      "Heat Transfer coefficient ch = 3.89105e-04\n"
     ]
    },
    {
     "data": {
      "image/png": "[encoded data removed]",
      "text/plain": [
       "<Figure size 864x360 with 2 Axes>"
      ]
     },
     "metadata": {
      "image/png": {
       "height": 335,
       "width": 839
      },
      "needs_background": "light"
     },
     "output_type": "display_data"
    }
   ],
   "source": [
    "import matplotlib.gridspec as gridspec\n",
    "from mpl_toolkits.axes_grid.inset_locator import (inset_axes,InsetPosition,mark_inset)\n",
    "\n",
    "fig, [ax, ax2]= plt.subplots(1,2,figsize=(12,5))               \n",
    "Minf      = 5.86\n",
    "ReTheta   = 40774.6527128768\n",
    "Tw_Tr     = 0.76\n",
    "viscLaw   = \"Sutherland\"\n",
    "Tinf_dim    = 100\n",
    "\n",
    "cf,ch,ReTau,MTau,ypl,yst,upl,T, niter = Solver(ReTheta=ReTheta, Minf=Minf, Tw_Tr=Tw_Tr,\n",
    "                                           viscLaw=viscLaw, Tinf_dim=Tinf_dim)\n",
    "\n",
    "\n",
    "ax.semilogx(ypl[(ypl>0) & (ypl<ReTau)], upl[(ypl>0) & (ypl<ReTau)],lw=2.5, color = 'k', fillstyle='none', linestyle='-')\n",
    "ax2.semilogx(ypl[(ypl>0) & (ypl<ReTau)], T[(ypl>0) & (ypl<ReTau)],lw=2.5, color = 'k', fillstyle='none', linestyle='-')\n",
    "\n",
    "ax.set_ylabel(r\"$\\bar u^+$\",fontsize = 22)\n",
    "ax2.set_ylabel(r\"$\\bar T/T_w$\",fontsize = 22)\n",
    "ax.set_xlabel(r\"$y^+$\",fontsize = 22)\n",
    "ax2.set_xlabel(r\"$y^+$\",fontsize = 22)\n",
    "\n",
    "ax.tick_params(axis='both', which='both', direction='in',labelsize=20,right=True, top=True,bottom=True)\n",
    "ax2.tick_params(axis='both', which='both', direction='in',labelsize=20,right=True, top=True,bottom=True)\n",
    "\n",
    "ax.yaxis.set_major_locator(MultipleLocator(10))\n",
    "ax.yaxis.set_minor_locator(MultipleLocator(2))\n",
    "ax2.yaxis.set_major_locator(MultipleLocator(0.5))\n",
    "ax2.yaxis.set_minor_locator(MultipleLocator(0.1))\n",
    "\n",
    "ax.tick_params(axis='both', which='major', size=10)\n",
    "ax.tick_params(axis='both', which='minor', size=5)\n",
    "ax2.tick_params(axis='both', which='major', size=10)\n",
    "ax2.tick_params(axis='both', which='minor', size=5)\n",
    "\n",
    "\n",
    "plt.tight_layout()\n",
    "\n",
    "print('Convergence reached after {0} iterations.'.format(niter))\n",
    "print('\\nSkin friction coefficient cf = {0:.5e} \\nHeat Transfer coefficient ch = {1:.5e}'.format(cf, ch))\n"
   ]
  },
  {
   "cell_type": "code",
   "execution_count": null,
   "id": "ae9bb640",
   "metadata": {},
   "outputs": [],
   "source": []
  },
  {
   "cell_type": "code",
   "execution_count": null,
   "id": "b5e83e0d",
   "metadata": {},
   "outputs": [],
   "source": []
  },
  {
   "cell_type": "code",
   "execution_count": null,
   "id": "2be479f9",
   "metadata": {},
   "outputs": [],
   "source": []
  },
  {
   "cell_type": "code",
   "execution_count": null,
   "id": "2c6ad2b4",
   "metadata": {},
   "outputs": [],
   "source": []
  }
 ],
 "metadata": {
  "kernelspec": {
   "display_name": "Python 3",
   "language": "python",
   "name": "python3"
  },
  "language_info": {
   "codemirror_mode": {
    "name": "ipython",
    "version": 3
   },
   "file_extension": ".py",
   "mimetype": "text/x-python",
   "name": "python",
   "nbconvert_exporter": "python",
   "pygments_lexer": "ipython3",
   "version": "3.8.5"
  }
 },
 "nbformat": 4,
 "nbformat_minor": 5
}
